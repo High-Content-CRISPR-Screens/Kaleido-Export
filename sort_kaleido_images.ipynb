{
 "cells": [
  {
   "cell_type": "code",
   "execution_count": 13,
   "metadata": {},
   "outputs": [],
   "source": [
    "import os\n",
    "import pandas as pd\n",
    "from tqdm.notebook import tqdm # while using notebook\n",
    "# from tqdm import tqdm # if/when changing for .py script\n",
    "import cv2\n",
    "import skimage.io\n",
    "\n",
    "def select_directory(msg):\n",
    "    user_input = input(msg)\n",
    "    if not os.path.exists(user_input):\n",
    "        print(\"Selected path not found.\")\n",
    "        user_input = select_directory(msg)\n",
    "    return user_input\n",
    "\n",
    "# --- Support variables ---\n",
    "ALPHABET = 'abcdefghijklmnopqrstuvwxyz'.upper()\n"
   ]
  },
  {
   "cell_type": "code",
   "execution_count": 14,
   "metadata": {},
   "outputs": [],
   "source": [
    "# --- Select the input and output directories ---\n",
    "input_directory:str = select_directory(\"Select the images directory path.\")\n",
    "output_directory:str = select_directory(\"Select the output directory path.\")"
   ]
  },
  {
   "cell_type": "code",
   "execution_count": null,
   "metadata": {},
   "outputs": [],
   "source": [
    "# --- Read the archive folder ---\n",
    "file_list = os.listdir(input_directory) #remove the suffix.\n",
    "file_list = [file for file in file_list if file.endswith(\".tiff\")]\n",
    "file_list.sort()\n",
    "\n",
    "# Start defining the dataframe\n",
    "df = pd.DataFrame(columns=['Original_name', 'Date' ,'Timestamp', 'Channel ID', 'Well ID']) # IMPORTANT: This line might need to be changed depending on the file name structure.\n",
    "for row in range(len(file_list)):   \n",
    "    df.loc[row] = [file_list[row]] + file_list[row].replace(\".tiff\",\"\").split(\"-\")\n",
    "df[\"Well Name\"] = df[\"Well ID\"].map(lambda well_id: ALPHABET[int(well_id[0:2])-1] + well_id[2:4])\n",
    "\n",
    "# --- Copy files into the new directory ---\n",
    "for i in tqdm(range(len(file_list))): # while using notebook\n",
    "    # if i != 10: continue # This is used for unit testing.\n",
    "    \n",
    "    # Define the name structure\n",
    "    output_name = f'{df.loc[i,\"Well Name\"]}_{df.loc[i,\"Channel ID\"]}.jpg' # You control the output format here.\n",
    "    src_dir = os.path.join(input_directory,df.loc[i,\"Original_name\"])\n",
    "    output_dir = os.path.join(\n",
    "        output_directory,\n",
    "        output_name\n",
    "    )\n",
    "    \n",
    "    # Check if the file already exists\n",
    "    if os.path.exists(output_dir): FileExistsError(f\"{output_name} already exists.\")\n",
    "    \n",
    "    # Read the image\n",
    "    img = skimage.io.imread(src_dir)\n",
    "    \n",
    "    # Rescale the image\n",
    "    img = skimage.exposure.rescale_intensity(img)\n",
    "    img = cv2.convertScaleAbs(img, alpha=(255.0/65535.0))    \n",
    "    \n",
    "    # Save the image\n",
    "    skimage.io.imsave(output_dir, img)"
   ]
  }
 ],
 "metadata": {
  "kernelspec": {
   "display_name": "base",
   "language": "python",
   "name": "python3"
  },
  "language_info": {
   "codemirror_mode": {
    "name": "ipython",
    "version": 3
   },
   "file_extension": ".py",
   "mimetype": "text/x-python",
   "name": "python",
   "nbconvert_exporter": "python",
   "pygments_lexer": "ipython3",
   "version": "3.11.7"
  }
 },
 "nbformat": 4,
 "nbformat_minor": 2
}
